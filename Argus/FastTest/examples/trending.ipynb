{
 "cells": [
  {
   "cell_type": "code",
   "execution_count": 3,
   "metadata": {},
   "outputs": [],
   "source": [
    "import sys\n",
    "import os\n",
    "\n",
    "import pandas as pd\n",
    "\n",
    "sys.path.append(os.path.abspath('..'))\n",
    "\n",
    "import helpers\n",
    "import FastTest\n",
    "from Hal import Hal\n"
   ]
  },
  {
   "cell_type": "code",
   "execution_count": 4,
   "metadata": {},
   "outputs": [
    {
     "ename": "FileNotFoundError",
     "evalue": "[Errno 2] No such file or directory: 'Argus/FastTest/tests/SP500_D'",
     "output_type": "error",
     "traceback": [
      "\u001b[0;31m---------------------------------------------------------------------------\u001b[0m",
      "\u001b[0;31mFileNotFoundError\u001b[0m                         Traceback (most recent call last)",
      "Cell \u001b[0;32mIn[4], line 2\u001b[0m\n\u001b[1;32m      1\u001b[0m dir_path \u001b[39m=\u001b[39m \u001b[39m\"\u001b[39m\u001b[39mArgus/FastTest/tests/SP500_D\u001b[39m\u001b[39m\"\u001b[39m\n\u001b[0;32m----> 2\u001b[0m hal \u001b[39m=\u001b[39m helpers\u001b[39m.\u001b[39;49mcreate_index_hal(dir_path)\n",
      "File \u001b[0;32m~/CLionProjects/Argus/Argus/FastTest/examples/helpers.py:31\u001b[0m, in \u001b[0;36mcreate_index_hal\u001b[0;34m(dir_path, logging, cash)\u001b[0m\n\u001b[1;32m     27\u001b[0m broker \u001b[39m=\u001b[39m hal\u001b[39m.\u001b[39mnew_broker(\u001b[39m\"\u001b[39m\u001b[39mbroker1\u001b[39m\u001b[39m\"\u001b[39m,\u001b[39m0.0\u001b[39m)\n\u001b[1;32m     28\u001b[0m exchange \u001b[39m=\u001b[39m hal\u001b[39m.\u001b[39mnew_exchange(\u001b[39m\"\u001b[39m\u001b[39mexchange1\u001b[39m\u001b[39m\"\u001b[39m)\n\u001b[0;32m---> 31\u001b[0m file_list \u001b[39m=\u001b[39m [os\u001b[39m.\u001b[39mpath\u001b[39m.\u001b[39mjoin(dir_path, f) \u001b[39mfor\u001b[39;00m f \u001b[39min\u001b[39;00m os\u001b[39m.\u001b[39;49mlistdir(dir_path) \u001b[39mif\u001b[39;00m os\u001b[39m.\u001b[39mpath\u001b[39m.\u001b[39misfile(os\u001b[39m.\u001b[39mpath\u001b[39m.\u001b[39mjoin(dir_path, f))]\n\u001b[1;32m     32\u001b[0m \u001b[39mfor\u001b[39;00m _file \u001b[39min\u001b[39;00m file_list:\n\u001b[1;32m     33\u001b[0m     _file_base \u001b[39m=\u001b[39m os\u001b[39m.\u001b[39mpath\u001b[39m.\u001b[39mbasename(_file)\n",
      "\u001b[0;31mFileNotFoundError\u001b[0m: [Errno 2] No such file or directory: 'Argus/FastTest/tests/SP500_D'"
     ]
    }
   ],
   "source": [
    "dir_path = \"/Users/nathantormaschy/CLionProjects/Argus/Argus/FastTest/tests/SP500_D\"\n",
    "hal = helpers.create_index_hal(dir_path)"
   ]
  },
  {
   "cell_type": "code",
   "execution_count": null,
   "metadata": {},
   "outputs": [],
   "source": []
  }
 ],
 "metadata": {
  "kernelspec": {
   "display_name": "arm64",
   "language": "python",
   "name": "python3"
  },
  "language_info": {
   "codemirror_mode": {
    "name": "ipython",
    "version": 3
   },
   "file_extension": ".py",
   "mimetype": "text/x-python",
   "name": "python",
   "nbconvert_exporter": "python",
   "pygments_lexer": "ipython3",
   "version": "3.9.16"
  },
  "orig_nbformat": 4
 },
 "nbformat": 4,
 "nbformat_minor": 2
}
